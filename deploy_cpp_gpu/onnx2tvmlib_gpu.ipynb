{
 "cells": [
  {
   "cell_type": "code",
   "execution_count": 1,
   "metadata": {},
   "outputs": [
    {
     "name": "stderr",
     "output_type": "stream",
     "text": [
      "Cannot find config for target=cuda -keys=cuda,gpu -max_num_threads=1024 -thread_warp_size=32, workload=('dense_small_batch.cuda', ('TENSOR', (1, 1280), 'float32'), ('TENSOR', (1000, 1280), 'float32'), None, 'float32'). A fallback configuration is used, which may bring great performance regression.\n",
      "/usr/local/lib/python3.6/dist-packages/ipykernel_launcher.py:43: DeprecationWarning: legacy graph runtime behavior of producing json / lib / params will be removed in the next release. Please see documents of tvm.contrib.graph_runtime.GraphModule for the  new recommended usage.\n"
     ]
    },
    {
     "name": "stdout",
     "output_type": "stream",
     "text": [
      "Output model files\n"
     ]
    }
   ],
   "source": [
    "# 导入onnx，转换成*.so动态库\n",
    "import onnx\n",
    "import time\n",
    "import tvm\n",
    "import numpy as np\n",
    "import tvm.relay as relay\n",
    "from PIL import Image\n",
    "\n",
    "#开始同样是读取.onnx模型\n",
    "onnx_model = onnx.load('../models/mobilenetv2.onnx')  # 导入模型\n",
    "\n",
    "# 以下的图片读取仅仅是为了测试\n",
    "mean = [123., 117., 104.]                   # 在ImageNet上训练数据集的mean和std\n",
    "std = [58.395, 57.12, 57.375]\n",
    "\n",
    "def transform_image(image):                # 定义转化函数，将PIL格式的图像转化为格式维度的numpy格式数组\n",
    "    image = image - np.array(mean)\n",
    "    image /= np.array(std)\n",
    "    image = np.array(image).transpose((2, 0, 1))\n",
    "    image = image[np.newaxis, :].astype('float32')\n",
    "    return image\n",
    "\n",
    "img = Image.open('../imgs/plane.png').resize((224, 224)) # 这里我们将图像resize为特定大小\n",
    "x = transform_image(img)\n",
    "\n",
    "\n",
    "\n",
    "# 这里首先在PC的CPU上进行测试 所以使用LLVM进行导出\n",
    "# target = tvm.target.create('llvm') # x86\n",
    "# target = tvm.target.arm_cpu(\"rasp3b\") # raspi\n",
    "# target = 'llvm'\n",
    "# target = tvm.target.cuda()\n",
    "target = 'cuda'\n",
    "\n",
    "\n",
    "input_name = \"input.1\"  # 注意这里为之前导出onnx模型中的模型的输入id，这里为0\n",
    "shape_dict = {input_name: x.shape}\n",
    "# 利用Relay中的onnx前端读取我们导出的onnx模型\n",
    "sym, params = relay.frontend.from_onnx(onnx_model, shape_dict)\n",
    "\n",
    "# 这里利用TVM构建出优化后模型的信息\n",
    "with relay.build_config(opt_level=2):\n",
    "    graph, lib, params = relay.build_module.build(sym, target, params=params)\n",
    "    \n",
    "\n",
    "    \n",
    "dtype = 'float32'\n",
    "from tvm.contrib import graph_runtime\n",
    "\n",
    "# 下面的函数导出我们需要的动态链接库 地址可以自己定义\n",
    "print(\"Output model files\")\n",
    "libpath = \"../models/mobilenet_gpu.so\"\n",
    "lib.export_library(libpath)\n",
    "\n",
    "# 下面的函数导出我们神经网络的结构，使用json文件保存\n",
    "graph_json_path = \"../models/mobilenet_gpu.graph\"\n",
    "with open(graph_json_path, 'w') as fo:\n",
    "    fo.write(graph)\n",
    "\n",
    "# 下面的函数中我们导出神经网络模型的权重参数\n",
    "param_path = \"../models/mobilenet_gpu.params\"\n",
    "with open(param_path, 'wb') as fo:\n",
    "    fo.write(relay.save_param_dict(params))\n",
    "# -------------至此导出模型阶段已经结束--------"
   ]
  },
  {
   "cell_type": "code",
   "execution_count": null,
   "metadata": {},
   "outputs": [],
   "source": [
    "    graph_json_str = None\n",
    "    nnvm.compiler.build_config(opt_level=3)\n",
    "    graph, lib, params = nnvm.compiler.build(\n",
    "        sym, target, shape_dict, params=params)\n",
    "\n",
    "    # saving model\n",
    "    lib.export_library(\"model/super_resolution.so\")\n",
    "    with open('model/super_resolution.graph', 'w') as _f:\n",
    "        _f.write(graph.json())\n",
    "    with open('model/super_resolution.params', 'wb') as _f:\n",
    "        _f.write(nnvm.compiler.save_param_dict(params))"
   ]
  }
 ],
 "metadata": {
  "kernelspec": {
   "display_name": "Python 3",
   "language": "python",
   "name": "python3"
  },
  "language_info": {
   "codemirror_mode": {
    "name": "ipython",
    "version": 3
   },
   "file_extension": ".py",
   "mimetype": "text/x-python",
   "name": "python",
   "nbconvert_exporter": "python",
   "pygments_lexer": "ipython3",
   "version": "3.6.9"
  }
 },
 "nbformat": 4,
 "nbformat_minor": 4
}
