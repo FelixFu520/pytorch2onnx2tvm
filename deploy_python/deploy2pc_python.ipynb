{
 "cells": [
  {
   "cell_type": "markdown",
   "metadata": {},
   "source": [
    "# deploy with python"
   ]
  },
  {
   "cell_type": "markdown",
   "metadata": {},
   "source": [
    "### 1.使用python部署*.so文件"
   ]
  },
  {
   "cell_type": "code",
   "execution_count": 1,
   "metadata": {},
   "outputs": [
    {
     "name": "stdout",
     "output_type": "stream",
     "text": [
      "<class 'numpy.ndarray'>\n",
      "404\n",
      "Time elapsed is 0m 35s\n"
     ]
    }
   ],
   "source": [
    "# 使用python部署*.so文件\n",
    "import onnx\n",
    "import time\n",
    "import tvm\n",
    "import numpy as np\n",
    "import tvm.relay as relay\n",
    "from PIL import Image\n",
    "from tvm.contrib import graph_runtime\n",
    "\n",
    "libpath = \"../models/mobilenet_pc.so\"\n",
    "graph_json_path = \"../models/mobilenet_pc.json\"\n",
    "param_path = \"../models/mobilenet_pc.params\"\n",
    "\n",
    "# 接下来我们加载导出的模型去测试导出的模型是否可以正常工作\n",
    "loaded_json = open(graph_json_path).read()\n",
    "loaded_lib = tvm.runtime.load_module(libpath)\n",
    "loaded_params = bytearray(open(param_path, \"rb\").read())\n",
    "\n",
    "# 这里执行的平台为CPU\n",
    "ctx = tvm.cpu()\n",
    "\n",
    "\n",
    "# 以下的图片读取仅仅是为了测试\n",
    "mean = [123., 117., 104.]                   # 在ImageNet上训练数据集的mean和std\n",
    "std = [58.395, 57.12, 57.375]\n",
    "\n",
    "def transform_image(image):                # 定义转化函数，将PIL格式的图像转化为格式维度的numpy格式数组\n",
    "    image = image - np.array(mean)\n",
    "    image /= np.array(std)\n",
    "    image = np.array(image).transpose((2, 0, 1))\n",
    "    image = image[np.newaxis, :].astype('float32')\n",
    "    return image\n",
    "\n",
    "img = Image.open('../imgs/plane.png').resize((224, 224)) # 这里我们将图像resize为特定大小\n",
    "x = transform_image(img)\n",
    "\n",
    "\n",
    "\n",
    "module = graph_runtime.create(loaded_json, loaded_lib, ctx)\n",
    "module.load_params(loaded_params)\n",
    "module.set_input(\"input.1\", x)\n",
    "module.run()\n",
    "out_deploy = module.get_output(0).asnumpy()\n",
    "print(type(out_deploy))\n",
    "print(out_deploy.argmax())\n",
    "# print(out_deploy)\n",
    "\n",
    "# 输出tvm运行的时间\n",
    "since = time.time()\n",
    "for i in range(4000):\n",
    "    module.run()\n",
    "time_elapsed = time.time() - since\n",
    "print('Time elapsed is {:.0f}m {:.0f}s'.format(time_elapsed // 60, time_elapsed % 60))"
   ]
  },
  {
   "cell_type": "code",
   "execution_count": null,
   "metadata": {},
   "outputs": [],
   "source": []
  }
 ],
 "metadata": {
  "kernelspec": {
   "display_name": "Python 3",
   "language": "python",
   "name": "python3"
  },
  "language_info": {
   "codemirror_mode": {
    "name": "ipython",
    "version": 3
   },
   "file_extension": ".py",
   "mimetype": "text/x-python",
   "name": "python",
   "nbconvert_exporter": "python",
   "pygments_lexer": "ipython3",
   "version": "3.6.9"
  }
 },
 "nbformat": 4,
 "nbformat_minor": 4
}
